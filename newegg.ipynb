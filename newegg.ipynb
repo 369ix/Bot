{
 "cells": [
  {
   "cell_type": "code",
   "execution_count": null,
   "id": "b4646551-45e7-494b-b869-aca24eab3bad",
   "metadata": {
    "tags": []
   },
   "outputs": [],
   "source": [
    "from selenium import webdriver as wd\n",
    "import chromedriver_binary\n",
    "\n",
    "import random\n",
    "import time"
   ]
  },
  {
   "cell_type": "code",
   "execution_count": null,
   "id": "dcf2b434-17cf-4c8a-b02d-0393850d87f7",
   "metadata": {},
   "outputs": [],
   "source": [
    "wd = wd.Chrome()\n",
    "wd.implicitly_wait(10)"
   ]
  },
  {
   "cell_type": "code",
   "execution_count": null,
   "id": "5249bf2a-4833-4c59-bb81-7ef2655bd5f2",
   "metadata": {},
   "outputs": [],
   "source": [
    "wd.get(\"https://www.newegg.ca\")"
   ]
  },
  {
   "cell_type": "code",
   "execution_count": null,
   "id": "1f3a2ce2-491b-4a1b-992f-4e23f7da0683",
   "metadata": {},
   "outputs": [],
   "source": [
    "random_wait_time = random.randrange(5.0, 15.0)\n",
    "print(random_wait_time)\n",
    "time.sleep(random_wait_time)\n",
    "\n",
    "add_to_cart_button = wd.find_element_by_xpath('//*[@id=\"ProductBuy\"]/div/div[2]/button')\n",
    "add_to_cart_button.click()"
   ]
  },
  {
   "cell_type": "code",
   "execution_count": null,
   "id": "6cf2f80a-855e-4b2b-b219-27df2c4c0f31",
   "metadata": {},
   "outputs": [],
   "source": [
    "random_wait_time = random.randrange(5.0, 15.0)\n",
    "print(random_wait_time)\n",
    "time.sleep(random_wait_time)\n",
    "\n",
    "no_thanks_button = wd.find_element_by_xpath('//*[@id=\"modal-intermediary\"]/div/div/div/div[3]/button[1]')\n",
    "no_thanks_button.click()"
   ]
  },
  {
   "cell_type": "code",
   "execution_count": null,
   "id": "114f3309-2945-46e9-9f3f-6897f956832d",
   "metadata": {},
   "outputs": [],
   "source": [
    "random_wait_time = random.randrange(5.0, 15.0)\n",
    "print(random_wait_time)\n",
    "time.sleep(random_wait_time)\n",
    "\n",
    "view_cart_button = wd.find_element_by_xpath('//*[@id=\"modal-intermediary\"]/div/div/div[2]/div[2]/button[2]')\n",
    "view_cart_button.click()"
   ]
  },
  {
   "cell_type": "code",
   "execution_count": null,
   "id": "8178a4a9-6806-4117-b0ba-7056476c65fc",
   "metadata": {},
   "outputs": [],
   "source": [
    "random_wait_time = random.randrange(5.0, 15.0)\n",
    "print(random_wait_time)\n",
    "time.sleep(random_wait_time)\n",
    "\n",
    "not_interested_button = wd.find_element_by_xpath('//*[@id=\"Popup_Masks\"]/div/div/div[3]/div[2]/button[1]')\n",
    "not_interested_button.click()"
   ]
  },
  {
   "cell_type": "code",
   "execution_count": null,
   "id": "ad5f1fff-45ee-4a7c-88bf-18748b300281",
   "metadata": {},
   "outputs": [],
   "source": [
    "random_wait_time = random.randrange(5.0, 15.0)\n",
    "print(random_wait_time)\n",
    "time.sleep(random_wait_time)\n",
    "\n",
    "secure_checkout_button = wd.find_element_by_xpath('//*[@id=\"app\"]/div[1]/section/div/div/form/div[2]/div[3]/div/div/div[3]/div/button')\n",
    "secure_checkout_button.click()"
   ]
  },
  {
   "cell_type": "code",
   "execution_count": null,
   "id": "558fa6b6-73bd-4710-9ba3-a4a492ec2efd",
   "metadata": {},
   "outputs": [],
   "source": [
    "random_wait_time = random.randrange(5.0, 15.0)\n",
    "print(random_wait_time)\n",
    "time.sleep(random_wait_time)\n",
    "\n",
    "guest_checkout_button = wd.find_element_by_xpath('//*[@id=\"app\"]/div/div[2]/div/div/div[1]/form[2]/div[2]/div/button')\n",
    "guest_checkout_button.click()"
   ]
  },
  {
   "cell_type": "code",
   "execution_count": null,
   "id": "d4a0aa6c-3eee-4152-b999-3892a6cf3cd7",
   "metadata": {},
   "outputs": [],
   "source": [
    "random_wait_time = random.randrange(5.0, 15.0)\n",
    "print(random_wait_time)\n",
    "time.sleep(random_wait_time)\n",
    "\n",
    "add_address = wd.find_element_by_xpath('//*[@id=\"app\"]/div/section/div/div/form/div[2]/div[1]/div/div[1]/div/div[2]/div[2]/div/div[2]/div[2]/div/div/i')\n",
    "add_address.click()"
   ]
  },
  {
   "cell_type": "code",
   "execution_count": null,
   "id": "9c8df5cc-4b97-44e4-ada7-6e9c92d6656e",
   "metadata": {},
   "outputs": [],
   "source": [
    "random_wait_time = random.randrange(5.0, 15.0)\n",
    "print(random_wait_time)\n",
    "time.sleep(random_wait_time)\n",
    "\n",
    "first_name = wd.find_element_by_xpath('//*[@id=\"app\"]/div/div/div/div/div[2]/form/div[2]/div[1]/input')\n",
    "first_name.send_keys(\"FIRST NAME HERE\")\n",
    "\n",
    "random_wait_time = random.randrange(5.0, 10.0)\n",
    "print(random_wait_time)\n",
    "time.sleep(random_wait_time)\n",
    "\n",
    "last_name = wd.find_element_by_xpath('//*[@id=\"app\"]/div/div/div/div/div[2]/form/div[2]/div[2]/input')\n",
    "last_name.send_keys(\"LAST NAME\")\n",
    "\n",
    "random_wait_time = random.randrange(5.0, 10.0)\n",
    "print(random_wait_time)\n",
    "time.sleep(random_wait_time)\n",
    "\n",
    "address_first_line = wd.find_element_by_xpath('//*[@id=\"app\"]/div/div/div/div/div[2]/form/div[2]/div[6]/input')\n",
    "address_first_line.send_keys(\"HOUSE NUMBER AND STREET NAME HERE\")\n",
    "\n",
    "random_wait_time = random.randrange(5.0, 10.0)\n",
    "print(random_wait_time)\n",
    "time.sleep(random_wait_time)\n",
    "\n",
    "city = wd.find_element_by_xpath('//*[@id=\"app\"]/div/div/div/div/div[2]/form/div[2]/div[8]/input')\n",
    "city.send_keys(\"SCARBROUGH CITY HERE\")\n",
    "\n",
    "random_wait_time = random.randrange(5.0, 10.0)\n",
    "print(random_wait_time)\n",
    "time.sleep(random_wait_time)\n",
    "\n",
    "from selenium.webdriver.support.select import Select\n",
    "state = wd.find_element_by_xpath('//*[@id=\"app\"]/div/div/div/div/div[2]/form/div[2]/div[9]/label[2]/select')\n",
    "Select(state).select_by_value('CO')\n",
    "\n",
    "random_wait_time = random.randrange(5.0, 10.0)\n",
    "print(random_wait_time)\n",
    "time.sleep(random_wait_time)\n",
    "\n",
    "\n",
    "zip_code = wd.find_element_by_xpath('//*[@id=\"app\"]/div/div/div/div/div[2]/form/div[2]/div[10]/input')\n",
    "zip_code.clear()\n",
    "zip_code.send_keys(\"POSTAL CODE HERE\")\n",
    "\n",
    "random_wait_time = random.randrange(5.0, 10.0)\n",
    "print(random_wait_time)\n",
    "time.sleep(random_wait_time)\n",
    "\n",
    "phone_number = wd.find_element_by_xpath('//*[@id=\"app\"]/div/div/div/div/div[2]/form/div[2]/div[12]/input')\n",
    "phone_number.send_keys(\"PHONE NUMBER HERE\")\n",
    "\n",
    "random_wait_time = random.randrange(5.0, 10.0)\n",
    "print(random_wait_time)\n",
    "time.sleep(random_wait_time)\n",
    "\n",
    "email = wd.find_element_by_xpath('//*[@id=\"app\"]/div/div/div/div/div[2]/form/div[2]/div[15]/input')\n",
    "email.send_keys(\"EMAILHERE@example.com\")\n",
    "\n",
    "random_wait_time = random.randrange(5.0, 10.0)\n",
    "print(random_wait_time)\n",
    "time.sleep(random_wait_time)\n",
    "\n",
    "save_button = wd.find_element_by_xpath('//*[@id=\"app\"]/div/div/div/div/div[3]/button[2]')\n",
    "save_button.click()"
   ]
  },
  {
   "cell_type": "code",
   "execution_count": null,
   "id": "b52fa50d-dbc1-4016-9fb5-483c4a38afb1",
   "metadata": {},
   "outputs": [],
   "source": [
    "random_wait_time = random.randrange(5.0, 15.0)\n",
    "print(random_wait_time)\n",
    "time.sleep(random_wait_time)\n",
    "\n",
    "use_address_as_entered = wd.find_element_by_xpath('//*[@id=\"app\"]/div/div/div/div/div[3]/button[1]')\n",
    "use_address_as_entered.click()\n",
    "\n",
    "random_wait_time = random.randrange(5.0, 15.0)\n",
    "print(random_wait_time)\n",
    "time.sleep(random_wait_time)\n",
    "\n",
    "go_to_delivery_button = wd.find_element_by_xpath('//*[@id=\"app\"]/div/section/div/div/form/div[2]/div[1]/div/div[1]/div/div[3]/button')\n",
    "go_to_delivery_button.click()\n",
    "\n",
    "random_wait_time = random.randrange(5.0, 15.0)\n",
    "print(random_wait_time)\n",
    "time.sleep(random_wait_time)\n",
    "\n",
    "go_to_payment_page_button = wd.find_element_by_xpath('//*[@id=\"app\"]/div/section/div/div/form/div[2]/div[1]/div/div[2]/div/div[3]/button')\n",
    "go_to_payment_page_button.click()"
   ]
  }
 ],
 "metadata": {
  "kernelspec": {
   "display_name": "Python 3",
   "language": "python",
   "name": "python3"
  },
  "language_info": {
   "codemirror_mode": {
    "name": "ipython",
    "version": 3
   },
   "file_extension": ".py",
   "mimetype": "text/x-python",
   "name": "python",
   "nbconvert_exporter": "python",
   "pygments_lexer": "ipython3",
   "version": "3.8.8"
  }
 },
 "nbformat": 4,
 "nbformat_minor": 5
}
