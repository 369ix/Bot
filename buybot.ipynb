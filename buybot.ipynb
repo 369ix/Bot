{
 "cells": [
  {
   "cell_type": "code",
   "execution_count": 2,
   "id": "b8241b00",
   "metadata": {},
   "outputs": [],
   "source": [
    "from selenium import webdriver as wd\n",
    "import chromedriver_binary\n",
    "\n",
    "import random\n",
    "import time\n"
   ]
  },
  {
   "cell_type": "code",
   "execution_count": 3,
   "id": "55d2884f",
   "metadata": {},
   "outputs": [],
   "source": [
    "wd = wd.Chrome()\n",
    "wd.implicitly_wait(10)"
   ]
  },
  {
   "cell_type": "code",
   "execution_count": 4,
   "id": "f4b69782",
   "metadata": {},
   "outputs": [],
   "source": [
    "wd.get(\"https://www.newegg.ca")"
   ]
  },
  {
   "cell_type": "code",
   "execution_count": 5,
   "id": "09235869",
   "metadata": {},
   "outputs": [
    {
     "name": "stdout",
     "output_type": "stream",
     "text": [
      "10\n"
     ]
    }
   ],
   "source": [
    "\n",
    "random_wait_time = random.randrange(5.0, 15.0)\n",
    "print(random_wait_time)\n",
    "time.sleep(random_wait_time)\n",
    "\n",
    "add_to_cart_button = wd.find_element_by_xpath('//*[@id=\"ProductBuy\"]/div/div[2]/button')\n",
    "add_to_cart_button.click()"
   ]
  },
  {
   "cell_type": "code",
   "execution_count": 6,
   "id": "d86b1a4e",
   "metadata": {},
   "outputs": [
    {
     "name": "stdout",
     "output_type": "stream",
     "text": [
      "13\n"
     ]
    }
   ],
   "source": [
    "random_wait_time = random.randrange(5.0, 15.0)\n",
    "print(random_wait_time)\n",
    "time.sleep(random_wait_time)\n",
    "\n",
    "no_thanks_button = wd.find_element_by_xpath('//*[@id=\"modal-intermediary\"]/div/div/div/div[3]/button[1]')\n",
    "no_thanks_button.click()"
   ]
  },
  {
   "cell_type": "code",
   "execution_count": 7,
   "id": "0fb19381",
   "metadata": {},
   "outputs": [
    {
     "name": "stdout",
     "output_type": "stream",
     "text": [
      "8\n"
     ]
    }
   ],
   "source": [
    "random_wait_time = random.randrange(5.0, 15.0)\n",
    "print(random_wait_time)\n",
    "time.sleep(random_wait_time)\n",
    "\n",
    "view_cart_button = wd.find_element_by_xpath('//*[@id=\"modal-intermediary\"]/div/div/div[2]/div[2]/button[2]')\n",
    "view_cart_button.click()"
   ]
  },
  {
   "cell_type": "code",
   "execution_count": 8,
   "id": "d1a3ad7c",
   "metadata": {},
   "outputs": [
    {
     "name": "stdout",
     "output_type": "stream",
     "text": [
      "14\n"
     ]
    }
   ],
   "source": [
    "random_wait_time = random.randrange(5.0, 15.0)\n",
    "print(random_wait_time)\n",
    "time.sleep(random_wait_time)\n",
    "\n",
    "not_interested_button = wd.find_element_by_xpath('//*[@id=\"Popup_Masks\"]/div/div/div[3]/div[2]/button[1]')\n",
    "not_interested_button.click()"
   ]
  },
  {
   "cell_type": "code",
   "execution_count": 9,
   "id": "1dac85e9",
   "metadata": {},
   "outputs": [
    {
     "name": "stdout",
     "output_type": "stream",
     "text": [
      "8\n"
     ]
    }
   ],
   "source": [
    "random_wait_time = random.randrange(5.0, 15.0)\n",
    "print(random_wait_time)\n",
    "time.sleep(random_wait_time)\n",
    "\n",
    "secure_checkout_button = wd.find_element_by_xpath('//*[@id=\"app\"]/div[1]/section/div/div/form/div[2]/div[3]/div/div/div[3]/div/button')\n",
    "secure_checkout_button.click()"
   ]
  },
  {
   "cell_type": "code",
   "execution_count": 10,
   "id": "87212700",
   "metadata": {},
   "outputs": [
    {
     "name": "stdout",
     "output_type": "stream",
     "text": [
      "6\n"
     ]
    }
   ],
   "source": [
    "random_wait_time = random.randrange(5.0, 15.0)\n",
    "print(random_wait_time)\n",
    "time.sleep(random_wait_time)\n",
    "\n",
    "guest_checkout_button = wd.find_element_by_xpath('//*[@id=\"app\"]/div/div[2]/div/div/div[1]/form[2]/div[2]/div/button')\n",
    "guest_checkout_button.click()"
   ]
  },
  {
   "cell_type": "code",
   "execution_count": 11,
   "id": "048a2cd9",
   "metadata": {},
   "outputs": [
    {
     "name": "stdout",
     "output_type": "stream",
     "text": [
      "6\n"
     ]
    }
   ],
   "source": [
    "random_wait_time = random.randrange(5.0, 15.0)\n",
    "print(random_wait_time)\n",
    "time.sleep(random_wait_time)\n",
    "\n",
    "add_address = wd.find_element_by_xpath('//*[@id=\"app\"]/div/section/div/div/form/div[2]/div[1]/div/div[1]/div/div[2]/div[2]/div/div[2]/div[2]/div/div/i')\n",
    "add_address.click()"
   ]
  },
  {
   "cell_type": "code",
   "execution_count": 12,
   "id": "300ef4d5",
   "metadata": {},
   "outputs": [
    {
     "name": "stdout",
     "output_type": "stream",
     "text": [
      "11\n",
      "5\n",
      "5\n",
      "9\n",
      "5\n",
      "8\n",
      "9\n",
      "5\n",
      "7\n"
     ]
    }
   ],
   "source": [
    "random_wait_time = random.randrange(5.0, 15.0)\n",
    "print(random_wait_time)\n",
    "time.sleep(random_wait_time)\n",
    "\n",
    "first_name = wd.find_element_by_xpath('//*[@id=\"app\"]/div/div/div/div/div[2]/form/div[2]/div[1]/input')\n",
    "first_name.send_keys(\"Madusna\")\n",
    "\n",
    "random_wait_time = random.randrange(5.0, 10.0)\n",
    "print(random_wait_time)\n",
    "time.sleep(random_wait_time)\n",
    "\n",
    "last_name = wd.find_element_by_xpath('//*[@id=\"app\"]/div/div/div/div/div[2]/form/div[2]/div[2]/input')\n",
    "last_name.send_keys(\"Jega\")\n",
    "\n",
    "random_wait_time = random.randrange(5.0, 10.0)\n",
    "print(random_wait_time)\n",
    "time.sleep(random_wait_time)\n",
    "\n",
    "address_first_line = wd.find_element_by_xpath('//*[@id=\"app\"]/div/div/div/div/div[2]/form/div[2]/div[6]/input')\n",
    "address_first_line.send_keys(\"house number and addrees here\")\n",
    "\n",
    "random_wait_time = random.randrange(5.0, 10.0)\n",
    "print(random_wait_time)\n",
    "time.sleep(random_wait_time)\n",
    "\n",
    "city = wd.find_element_by_xpath('//*[@id=\"app\"]/div/div/div/div/div[2]/form/div[2]/div[8]/input')\n",
    "city.send_keys(\"toronto\")\n",
    "\n",
    "random_wait_time = random.randrange(5.0, 10.0)\n",
    "print(random_wait_time)\n",
    "time.sleep(random_wait_time)\n",
    "\n",
    "from selenium.webdriver.support.select import Select\n",
    "state = wd.find_element_by_xpath('//*[@id=\"app\"]/div/div/div/div/div[2]/form/div[2]/div[9]/label[2]/select')\n",
    "Select(state).select_by_value('ON')\n",
    "\n",
    "random_wait_time = random.randrange(5.0, 10.0)\n",
    "print(random_wait_time)\n",
    "time.sleep(random_wait_time)\n",
    "\n",
    "\n",
    "zip_code = wd.find_element_by_xpath('//*[@id=\"app\"]/div/div/div/div/div[2]/form/div[2]/div[10]/input')\n",
    "zip_code.clear()\n",
    "zip_code.send_keys(\"Postalcode HERE\")\n",
    "\n",
    "random_wait_time = random.randrange(5.0, 10.0)\n",
    "print(random_wait_time)\n",
    "time.sleep(random_wait_time)\n",
    "\n",
    "phone_number = wd.find_element_by_xpath('//*[@id=\"app\"]/div/div/div/div/div[2]/form/div[2]/div[12]/input')\n",
    "phone_number.send_keys(\"phone number here\")\n",
    "\n",
    "random_wait_time = random.randrange(5.0, 10.0)\n",
    "print(random_wait_time)\n",
    "time.sleep(random_wait_time)\n",
    "\n",
    "email = wd.find_element_by_xpath('//*[@id=\"app\"]/div/div/div/div/div[2]/form/div[2]/div[15]/input')\n",
    "email.send_keys(\"emailhere@example.com\")\n",
    "\n",
    "random_wait_time = random.randrange(5.0, 10.0)\n",
    "print(random_wait_time)\n",
    "time.sleep(random_wait_time)\n",
    "\n",
    "save_button = wd.find_element_by_xpath('//*[@id=\"app\"]/div/div/div/div/div[3]/button[2]')\n",
    "save_button.click()"
   ]
  },
  {
   "cell_type": "code",
   "execution_count": 13,
   "id": "d7a0921c",
   "metadata": {},
   "outputs": [
    {
     "name": "stdout",
     "output_type": "stream",
     "text": [
      "5\n",
      "11\n",
      "5\n"
     ]
    }
   ],
   "source": [
    "random_wait_time = random.randrange(5.0, 15.0)\n",
    "print(random_wait_time)\n",
    "time.sleep(random_wait_time)\n",
    "\n",
    "use_address_as_entered = wd.find_element_by_xpath('//*[@id=\"app\"]/div/div/div/div/div[3]/button[1]')\n",
    "use_address_as_entered.click()\n",
    "\n",
    "random_wait_time = random.randrange(5.0, 15.0)\n",
    "print(random_wait_time)\n",
    "time.sleep(random_wait_time)\n",
    "\n",
    "go_to_delivery_button = wd.find_element_by_xpath('//*[@id=\"app\"]/div/section/div/div/form/div[2]/div[1]/div/div[1]/div/div[3]/button')\n",
    "go_to_delivery_button.click()\n",
    "\n",
    "random_wait_time = random.randrange(5.0, 15.0)\n",
    "print(random_wait_time)\n",
    "time.sleep(random_wait_time)\n",
    "\n",
    "go_to_payment_page_button = wd.find_element_by_xpath('//*[@id=\"app\"]/div/section/div/div/form/div[2]/div[1]/div/div[2]/div/div[3]/button')\n",
    "go_to_payment_page_button.click()"
   ]
  }
 ],
 "metadata": {
  "kernelspec": {
   "display_name": "Python 3",
   "language": "python",
   "name": "python3"
  },
  "language_info": {
   "codemirror_mode": {
    "name": "ipython",
    "version": 3
   },
   "file_extension": ".py",
   "mimetype": "text/x-python",
   "name": "python",
   "nbconvert_exporter": "python",
   "pygments_lexer": "ipython3",
   "version": "3.8.8"
  }
 },
 "nbformat": 4,
 "nbformat_minor": 5
}
